{
 "cells": [
  {
   "cell_type": "markdown",
   "id": "afd1f1f2",
   "metadata": {},
   "source": [
    "## Centrality betweenness"
   ]
  },
  {
   "cell_type": "markdown",
   "id": "b05fdd70",
   "metadata": {},
   "source": [
    "Importamos las librerías a utilizar"
   ]
  },
  {
   "cell_type": "code",
   "execution_count": 1,
   "id": "f8923d82",
   "metadata": {},
   "outputs": [],
   "source": [
    "#Para crear y análizar redes\n",
    "import networkx as nx\n",
    "#Para dibujar redes y graficar funciones\n",
    "import matplotlib.pyplot as plt\n",
    "#Para leer desde un archivo\n",
    "import pandas as pd \n",
    "import numpy as np\n",
    "#Para generar errores aleatorios\n",
    "import random"
   ]
  },
  {
   "cell_type": "markdown",
   "id": "163b506c",
   "metadata": {},
   "source": [
    "# Mapa de calor"
   ]
  },
  {
   "cell_type": "code",
   "execution_count": 5,
   "id": "09d2d102",
   "metadata": {},
   "outputs": [],
   "source": [
    "def mapacalor_intermediacion(G, nombre_mcalor_grado):\n",
    "    degree_map = {node:nx.betweenness_centrality(G, node) for node in G.nodes()}\n",
    "    #valores máximo y mínimos de grado\n",
    "    max_degree = max(degree_map.values())\n",
    "    min_degree = min(degree_map.values())\n",
    "    #el grado nodal nos da el color de nodo, el cual se mapea con el mapa de color\n",
    "    colores_nodos = list(degree_map.values())\n",
    "    mapa_color = plt.get_cmap('spring')\n",
    "    #dibujamos la red\n",
    "    nx.draw(G, cmap=mapa_color, node_color=colores_nodos, with_labels=True)\n",
    "    #dibujamos la barra de color\n",
    "    sm = plt.cm.ScalarMappable(cmap=mapa_color,norm=plt.Normalize(vmin = min_degree, vmax=max_degree))\n",
    "    cbar = plt.colorbar(sm)\n",
    "    cbar.set_label('Intermediacion')\n",
    "    plt.savefig(nombre_mcalor_grado + \".png\")\n",
    "    plt.show()\n",
    "    # la siguiente instruccion limpia la figura, evitando que al graficar varias figuras, estas no se encimen \n",
    "    plt.clf()"
   ]
  },
  {
   "cell_type": "markdown",
   "id": "9a1da80f",
   "metadata": {},
   "source": [
    "### Función para obtener el número de componentes conectados"
   ]
  },
  {
   "cell_type": "code",
   "execution_count": 6,
   "id": "61500a73",
   "metadata": {},
   "outputs": [],
   "source": [
    "def num_componentes_conectados(G):\n",
    "    num_cc=nx.number_connected_components(G)\n",
    "    return num_cc"
   ]
  },
  {
   "cell_type": "markdown",
   "id": "1d8c59e2",
   "metadata": {},
   "source": [
    "### Función para obtener la proporción del componente gigante"
   ]
  },
  {
   "cell_type": "code",
   "execution_count": 7,
   "id": "70560f6d",
   "metadata": {},
   "outputs": [],
   "source": [
    "def prop_componente_gigante(G):\n",
    "    num_cc=num_componentes_conectados(G)\n",
    "    Gcc =sorted(nx.connected_components(G), key=len, reverse=True)\n",
    "    GC= G.subgraph(Gcc[0])\n",
    "    n=len(nx.nodes(G))\n",
    "    n_GC=len(nx.nodes(GC))\n",
    "    proporcioncg=n_GC/n\n",
    "    print(\"Proporcion nodal componente gigante:\"+str(proporcioncg))\n",
    "    return proporcioncg"
   ]
  },
  {
   "cell_type": "markdown",
   "id": "262ac8a6",
   "metadata": {},
   "source": [
    "### Función para obtener el nodo intermedio"
   ]
  },
  {
   "cell_type": "code",
   "execution_count": 8,
   "id": "5dfad398",
   "metadata": {},
   "outputs": [],
   "source": [
    "def centralidad_intermediacion(G):\n",
    "    intermediacion=nx.betweenness_centrality(G)\n",
    "    cntr_inter=max(intermediacion.values())\n",
    "    print(\"Mayor cercania:\"+str(cercania_mayor))\n",
    "    for key in cercania:\n",
    "        if cntr_inter==intermediacion[key]:\n",
    "            print(\"El nodo\"+str(key)+\" es el nodo intermedio\")\n",
    "            return key"
   ]
  },
  {
   "cell_type": "code",
   "execution_count": null,
   "id": "eb94084d",
   "metadata": {},
   "outputs": [],
   "source": []
  }
 ],
 "metadata": {
  "kernelspec": {
   "display_name": "Python 3",
   "language": "python",
   "name": "python3"
  },
  "language_info": {
   "codemirror_mode": {
    "name": "ipython",
    "version": 3
   },
   "file_extension": ".py",
   "mimetype": "text/x-python",
   "name": "python",
   "nbconvert_exporter": "python",
   "pygments_lexer": "ipython3",
   "version": "3.6.13"
  }
 },
 "nbformat": 4,
 "nbformat_minor": 5
}
